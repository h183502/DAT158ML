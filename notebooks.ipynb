{
 "cells": [
  {
   "cell_type": "markdown",
   "metadata": {
    "toc": true
   },
   "source": [
    "<h1>Table of Contents<span class=\"tocSkip\"></span></h1>\n",
    "<div class=\"toc\"><ul class=\"toc-item\"><li><span><a href=\"#Notebooks-from-DAT158---Machine-learning,-2019\" data-toc-modified-id=\"Notebooks-from-DAT158---Machine-learning,-2019-1\"><span class=\"toc-item-num\">1&nbsp;&nbsp;</span>Notebooks from DAT158 - Machine learning, 2019</a></span><ul class=\"toc-item\"><li><ul class=\"toc-item\"><li><span><a href=\"#Part-1:-Introduction-to-machine-learning\" data-toc-modified-id=\"Part-1:-Introduction-to-machine-learning-1.0.1\"><span class=\"toc-item-num\">1.0.1&nbsp;&nbsp;</span>Part 1: Introduction to machine learning</a></span></li><li><span><a href=\"#Part-2:-Classification\" data-toc-modified-id=\"Part-2:-Classification-1.0.2\"><span class=\"toc-item-num\">1.0.2&nbsp;&nbsp;</span>Part 2: Classification</a></span></li><li><span><a href=\"#Part-3:-Training-models\" data-toc-modified-id=\"Part-3:-Training-models-1.0.3\"><span class=\"toc-item-num\">1.0.3&nbsp;&nbsp;</span>Part 3: Training models</a></span></li><li><span><a href=\"#Part-4:-Tree-based-models\" data-toc-modified-id=\"Part-4:-Tree-based-models-1.0.4\"><span class=\"toc-item-num\">1.0.4&nbsp;&nbsp;</span>Part 4: Tree-based models</a></span></li><li><span><a href=\"#Part-5:-A-taste-of-neural-networks-and-deep-learning\" data-toc-modified-id=\"Part-5:-A-taste-of-neural-networks-and-deep-learning-1.0.5\"><span class=\"toc-item-num\">1.0.5&nbsp;&nbsp;</span>Part 5: A taste of neural networks and deep learning</a></span></li></ul></li></ul></li></ul></div>"
   ]
  },
  {
   "cell_type": "markdown",
   "metadata": {},
   "source": [
    "# Notebooks from DAT158 - Machine learning, 2019"
   ]
  },
  {
   "cell_type": "markdown",
   "metadata": {},
   "source": [
    "Here's a list of all the notebooks available in the course [GitHub repository](https://github.com/alu042/DAT158ML). **The list will be updated throughout the semester!**\n",
    "\n",
    "See the [GitHub repository](https://github.com/alu042/DAT158ML) and our [Canvas](https://hvl.instructure.com/courses/9086) for more information."
   ]
  },
  {
   "cell_type": "markdown",
   "metadata": {},
   "source": [
    "### Part 1: Introduction to machine learning"
   ]
  },
  {
   "cell_type": "markdown",
   "metadata": {},
   "source": [
    "- [Extra - Introduction to machine learning](Part1-intro/DAT158-Part1-Extra-Intro_to_ML.ipynb). _This is extra material, walking through some of the key concepts in machine learning_.\n",
    "\n",
    "- [Some first examples of machine learning](Part1-intro/DAT158-Part1-simple_examples.ipynb)"
   ]
  },
  {
   "cell_type": "markdown",
   "metadata": {},
   "source": [
    "### Part 2: Classification"
   ]
  },
  {
   "cell_type": "markdown",
   "metadata": {},
   "source": [
    "- [Part 2: Classification](Part2-classification/DAT158-Part2-Classification.ipynb)"
   ]
  },
  {
   "cell_type": "markdown",
   "metadata": {},
   "source": [
    "### Part 3: Training models"
   ]
  },
  {
   "cell_type": "markdown",
   "metadata": {},
   "source": [
    "_See Jerry Lin's code repository_ (The notebooks for Part 3 from 2018 are in the folder `old`)."
   ]
  },
  {
   "cell_type": "markdown",
   "metadata": {},
   "source": [
    "### Part 4: Tree-based models"
   ]
  },
  {
   "cell_type": "markdown",
   "metadata": {},
   "source": [
    "- [Decision trees](Part4-tree_based_models/DAT158-Part4-1-Decision_Trees.ipynb)\n",
    "- [Random forests](Part4-tree_based_models/DAT158-Part4-2-Random_Forests.ipynb)\n",
    "- [Gradient boosting](Part4-tree_based_models/DAT158-Part4-3-Gradient_Boosting.ipynb)\n",
    "- [Hyperparameter optimization](Part4-tree_based_models/DAT158-Part4-4-Hyperparameter_optimization.ipynb)"
   ]
  },
  {
   "cell_type": "markdown",
   "metadata": {},
   "source": [
    "### Part 5: A taste of neural networks and deep learning"
   ]
  },
  {
   "cell_type": "markdown",
   "metadata": {},
   "source": [
    "_TBA_"
   ]
  }
 ],
 "metadata": {
  "kernelspec": {
   "display_name": "DAT158",
   "language": "python",
   "name": "dat158"
  },
  "language_info": {
   "codemirror_mode": {
    "name": "ipython",
    "version": 3
   },
   "file_extension": ".py",
   "mimetype": "text/x-python",
   "name": "python",
   "nbconvert_exporter": "python",
   "pygments_lexer": "ipython3",
   "version": "3.7.4"
  },
  "toc": {
   "base_numbering": 1,
   "nav_menu": {},
   "number_sections": true,
   "sideBar": true,
   "skip_h1_title": false,
   "title_cell": "Table of Contents",
   "title_sidebar": "Contents",
   "toc_cell": true,
   "toc_position": {},
   "toc_section_display": true,
   "toc_window_display": false
  }
 },
 "nbformat": 4,
 "nbformat_minor": 4
}
